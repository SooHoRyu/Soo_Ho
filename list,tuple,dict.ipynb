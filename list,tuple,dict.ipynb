{
 "cells": [
  {
   "cell_type": "code",
   "execution_count": 24,
   "id": "879de9dc",
   "metadata": {},
   "outputs": [
    {
     "name": "stdout",
     "output_type": "stream",
     "text": [
      "[1, 10, 3, 2]\n",
      "yes\n"
     ]
    }
   ],
   "source": [
    "#자료 구조 = list, tuple, dictionary\n",
    "\n",
    "#list : x= list()  랑  x = [] 같음, sorted = 정렬, .index = 위치 찾기, x in y = 있는지 확인\n",
    "\n",
    "x = [ 1,4,3,2]\n",
    "\n",
    "x[1] = 10\n",
    "\n",
    "print(x)\n",
    "\n",
    "if 3 in x:\n",
    "    print('yes')"
   ]
  },
  {
   "cell_type": "code",
   "execution_count": 22,
   "id": "419646b2",
   "metadata": {},
   "outputs": [
    {
     "ename": "TypeError",
     "evalue": "'tuple' object does not support item assignment",
     "output_type": "error",
     "traceback": [
      "\u001b[1;31m---------------------------------------------------------------------------\u001b[0m",
      "\u001b[1;31mTypeError\u001b[0m                                 Traceback (most recent call last)",
      "\u001b[1;32m<ipython-input-22-f9bd48256d79>\u001b[0m in \u001b[0;36m<module>\u001b[1;34m\u001b[0m\n\u001b[0;32m      5\u001b[0m \u001b[0my\u001b[0m \u001b[1;33m=\u001b[0m \u001b[1;33m(\u001b[0m\u001b[1;34m'hello'\u001b[0m\u001b[1;33m,\u001b[0m \u001b[1;34m'world'\u001b[0m\u001b[1;33m)\u001b[0m\u001b[1;33m\u001b[0m\u001b[1;33m\u001b[0m\u001b[0m\n\u001b[0;32m      6\u001b[0m \u001b[1;33m\u001b[0m\u001b[0m\n\u001b[1;32m----> 7\u001b[1;33m \u001b[0mx\u001b[0m\u001b[1;33m[\u001b[0m\u001b[1;36m0\u001b[0m\u001b[1;33m]\u001b[0m\u001b[1;33m=\u001b[0m \u001b[1;36m10\u001b[0m\u001b[1;33m\u001b[0m\u001b[1;33m\u001b[0m\u001b[0m\n\u001b[0m",
      "\u001b[1;31mTypeError\u001b[0m: 'tuple' object does not support item assignment"
     ]
    }
   ],
   "source": [
    "#튜플 = Assignment가 안됨.(업데이트 하는것) x[0]= 10 이런거 안됨 안에있는거 못 바꿈.\n",
    "# x = tuple() 랑 x =()  같음,\n",
    "\n",
    "x = (1,2,3)\n",
    "y = ('hello', 'world')\n"
   ]
  },
  {
   "cell_type": "code",
   "execution_count": 39,
   "id": "faf34b90",
   "metadata": {},
   "outputs": [
    {
     "name": "stdout",
     "output_type": "stream",
     "text": [
      "{0: 3, 1: '26', 'school': '학교'}\n"
     ]
    }
   ],
   "source": [
    "#dictionary  key와 value롤 이루어짐\n",
    "# x = dict() 랑 x = {} 같음, key는 불변만 가능(list 안됨)\n",
    "# x.keys() = key 보여주기, x.values = value , x[''] = ' '  = 새로 넣기\n",
    "\n",
    "x = {0 : '수호', 1 : '26'}\n",
    "\n",
    "\n",
    "x[0] = 3\n",
    "x['school'] = '학교'\n",
    "print(x)"
   ]
  },
  {
   "cell_type": "code",
   "execution_count": 40,
   "id": "284f29e9",
   "metadata": {},
   "outputs": [
    {
     "name": "stdout",
     "output_type": "stream",
     "text": [
      "{'사과': 2, '바나나': 2, '딸기': 1, '키위': 1, '복숭아': 2, ' 복숭아': 1}\n"
     ]
    }
   ],
   "source": [
    "fruit = ['사과', '사과', '바나나', '바나나', '딸기', '키위', '복숭아', ' 복숭아', '복숭아']\n",
    "#각 과일이 몇개씩있는지 알수 있는 코드 짜기\n",
    "\n",
    "d = {}\n",
    "\n",
    "for f in fruit:\n",
    "    if f in d:# f가 d에 있는지 확인\n",
    "        d[f] = d[f] + 1 #있으면, 갯수 1개 올려줘\n",
    "    else:\n",
    "        d[f] = 1 #없으면 딕셔너리에 넣고 1로 만들어줘\n",
    "        \n",
    "print(d)"
   ]
  },
  {
   "cell_type": "code",
   "execution_count": null,
   "id": "739f89d7",
   "metadata": {},
   "outputs": [],
   "source": []
  }
 ],
 "metadata": {
  "kernelspec": {
   "display_name": "Python 3",
   "language": "python",
   "name": "python3"
  },
  "language_info": {
   "codemirror_mode": {
    "name": "ipython",
    "version": 3
   },
   "file_extension": ".py",
   "mimetype": "text/x-python",
   "name": "python",
   "nbconvert_exporter": "python",
   "pygments_lexer": "ipython3",
   "version": "3.8.8"
  }
 },
 "nbformat": 4,
 "nbformat_minor": 5
}
