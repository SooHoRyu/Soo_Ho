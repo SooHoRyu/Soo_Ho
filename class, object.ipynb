{
 "cells": [
  {
   "cell_type": "code",
   "execution_count": 38,
   "id": "1c65b6c3",
   "metadata": {},
   "outputs": [
    {
     "name": "stdout",
     "output_type": "stream",
     "text": [
      "내 이름은 Soo ho그리고 나는 26 살이야\n",
      "내 이름은 chul su그리고 나는 25 살이야\n",
      "넌 체포됐다수호\n",
      "다음에 뭘 만들지수호\n"
     ]
    }
   ],
   "source": [
    "#class = 함수, 변수들의합(빵틀)\n",
    "#object(인스턴스) = class를 이용해서 만든 물체(빵)\n",
    "\n",
    "class Person:\n",
    "    def __init__(self, name, age):\n",
    "        self.name = name\n",
    "        self.age = age\n",
    "    \n",
    "    def say_hello(self, to_name):\n",
    "        print('안녕! 나는' + to_name + self.name)\n",
    "    def introduce(self):\n",
    "        print('내 이름은 ' + self.name + '그리고 나는 ' + str(self.age) + \" 살이야\")\n",
    "    \n",
    "    \n",
    "class police(Person):\n",
    "    def arrest(self, to_arrest):\n",
    "        print('넌 체포됐다'+ to_arrest)\n",
    "class programmer(Person):\n",
    "    def program(self, to_program):\n",
    "        print('다음에 뭘 만들지' + to_program)\n",
    "        \n",
    "        \n",
    "수호 = Person('Soo ho', 26)\n",
    "철수 = police('chul su', 25)\n",
    "영희 = programmer('yeoun hui', 22)\n",
    "\n",
    "수호.introduce()\n",
    "철수.introduce()\n",
    "철수.arrest('수호')\n",
    "영희.program('수호')\n"
   ]
  },
  {
   "cell_type": "code",
   "execution_count": 15,
   "id": "070a2506",
   "metadata": {},
   "outputs": [
    {
     "ename": "SyntaxError",
     "evalue": "invalid syntax (<ipython-input-15-926e3aa16210>, line 1)",
     "output_type": "error",
     "traceback": [
      "\u001b[1;36m  File \u001b[1;32m\"<ipython-input-15-926e3aa16210>\"\u001b[1;36m, line \u001b[1;32m1\u001b[0m\n\u001b[1;33m    이지 퍼블리싱\u001b[0m\n\u001b[1;37m       ^\u001b[0m\n\u001b[1;31mSyntaxError\u001b[0m\u001b[1;31m:\u001b[0m invalid syntax\n"
     ]
    }
   ],
   "source": [
    "이지 퍼블리싱\n",
    "동빈나"
   ]
  },
  {
   "cell_type": "code",
   "execution_count": null,
   "id": "2bb5f751",
   "metadata": {},
   "outputs": [],
   "source": [
    "#inheritance(상속) =공통된 class에 조금 다른 세부 class를 만들고싶을 때 사용\n",
    "\n",
    "class police():"
   ]
  }
 ],
 "metadata": {
  "kernelspec": {
   "display_name": "Python 3",
   "language": "python",
   "name": "python3"
  },
  "language_info": {
   "codemirror_mode": {
    "name": "ipython",
    "version": 3
   },
   "file_extension": ".py",
   "mimetype": "text/x-python",
   "name": "python",
   "nbconvert_exporter": "python",
   "pygments_lexer": "ipython3",
   "version": "3.8.8"
  }
 },
 "nbformat": 4,
 "nbformat_minor": 5
}
