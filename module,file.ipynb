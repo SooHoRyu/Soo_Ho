{
 "cells": [
  {
   "cell_type": "code",
   "execution_count": 7,
   "id": "61f97946",
   "metadata": {},
   "outputs": [
    {
     "name": "stdout",
     "output_type": "stream",
     "text": [
      "x 1 sum 1\n",
      "x 2 sum 3\n",
      "x 3 sum 6\n",
      "x 4 sum 10\n",
      "x 5 sum 15\n",
      "x 6 sum 21\n",
      "x 7 sum 28\n",
      "x 8 sum 36\n",
      "x 9 sum 45\n"
     ]
    }
   ],
   "source": [
    "s = 0\n",
    "x = 1\n",
    "while x < 10:\n",
    "   \n",
    "    s += x\n",
    "    print('x', x, 'sum', s)\n",
    "    x = x + 1"
   ]
  },
  {
   "cell_type": "code",
   "execution_count": 15,
   "id": "f14da13e",
   "metadata": {},
   "outputs": [
    {
     "data": {
      "text/plain": [
       "{'apple', 'banana', 'google', 'mango', 'microsoft', 'orange'}"
      ]
     },
     "execution_count": 15,
     "metadata": {},
     "output_type": "execute_result"
    }
   ],
   "source": [
    "fruits = {'apple', 'banana', 'orange'}\n",
    "fruits.add('mango')\n",
    "\n",
    "companies = {'apple', 'microsoft', 'google'}\n",
    "\n",
    "fruits | companies"
   ]
  },
  {
   "cell_type": "code",
   "execution_count": 19,
   "id": "2ecb8f77",
   "metadata": {},
   "outputs": [
    {
     "data": {
      "text/plain": [
       "{'e', 'g', 'l', 'o'}"
      ]
     },
     "execution_count": 19,
     "metadata": {},
     "output_type": "execute_result"
    }
   ],
   "source": [
    "alphabet = list('google')\n",
    "\n",
    "set(alphabet)"
   ]
  },
  {
   "cell_type": "code",
   "execution_count": 45,
   "id": "51fce323",
   "metadata": {},
   "outputs": [
    {
     "name": "stdout",
     "output_type": "stream",
     "text": [
      "{'3'}\n",
      "{'4'}\n",
      "{'6'}\n",
      "{'8'}\n",
      "{'1', '2'}\n",
      "{'1', '4'}\n",
      "{'4'}\n",
      "{'5'}\n",
      "{'7'}\n",
      "{'9'}\n",
      "{'1', '3'}\n",
      "{'1', '5'}\n",
      "{'5'}\n",
      "{'6'}\n",
      "{'8'}\n",
      "{'0', '1'}\n",
      "{'1', '4'}\n",
      "{'6', '1'}\n",
      "{'6'}\n",
      "{'7'}\n",
      "{'9'}\n",
      "{'1'}\n",
      "{'1', '5'}\n",
      "{'1', '7'}\n",
      "{'7'}\n",
      "{'8'}\n",
      "{'0', '1'}\n",
      "{'1', '2'}\n",
      "{'6', '1'}\n",
      "{'1', '8'}\n",
      "{'8'}\n",
      "{'9'}\n",
      "{'1'}\n",
      "{'1', '3'}\n",
      "{'1', '7'}\n",
      "{'1', '9'}\n"
     ]
    }
   ],
   "source": [
    "dice1 = (1, 2, 3, 4, 5, 6)\n",
    "dice2 = (2, 3, 5, 7, 11, 13)\n",
    "\n",
    "def sum_dice():\n",
    "    for a in dice1:\n",
    "        for b in dice2:\n",
    "            sum = a + b\n",
    "            k = set(str(sum))\n",
    "            print(k)\n",
    "\n",
    "sum_dice()"
   ]
  },
  {
   "cell_type": "code",
   "execution_count": 31,
   "id": "5b6d2133",
   "metadata": {},
   "outputs": [
    {
     "name": "stdout",
     "output_type": "stream",
     "text": [
      "{3, 4, 5, 6, 7, 8, 9, 10, 11, 12, 13, 14, 15, 16, 17, 18, 19}\n"
     ]
    }
   ],
   "source": [
    "dice1 = (1, 2, 3, 4, 5, 6)\n",
    "dice2 = (2, 3, 5, 7, 11, 13)\n",
    "\n",
    "sum_of_the_two_dice = set()\n",
    "\n",
    "for x in dice1:\n",
    "    for y in dice2:\n",
    "        sum_of_the_two_dice.add(x + y)\n",
    "\n",
    "print(sum_of_the_two_dice)"
   ]
  },
  {
   "cell_type": "code",
   "execution_count": 36,
   "id": "84d4f3cb",
   "metadata": {},
   "outputs": [
    {
     "name": "stdout",
     "output_type": "stream",
     "text": [
      "     July 2013\n",
      "Mo Tu We Th Fr Sa Su\n",
      " 1  2  3  4  5  6  7\n",
      " 8  9 10 11 12 13 14\n",
      "15 16 17 18 19 20 21\n",
      "22 23 24 25 26 27 28\n",
      "29 30 31\n"
     ]
    }
   ],
   "source": [
    "import calendar\n",
    "\n",
    "calendar.prmonth(2013, 7)"
   ]
  },
  {
   "cell_type": "code",
   "execution_count": 42,
   "id": "39722829",
   "metadata": {},
   "outputs": [],
   "source": [
    "import tkinter\n",
    "tkinter.widget = tkinter.Label(None, text='I love Python!')\n",
    "tkinter.widget.pack()"
   ]
  },
  {
   "cell_type": "code",
   "execution_count": 47,
   "id": "c1a92f1a",
   "metadata": {
    "scrolled": true
   },
   "outputs": [
    {
     "data": {
      "text/plain": [
       "['Calendar',\n",
       " 'EPOCH',\n",
       " 'FRIDAY',\n",
       " 'February',\n",
       " 'HTMLCalendar',\n",
       " 'IllegalMonthError',\n",
       " 'IllegalWeekdayError',\n",
       " 'January',\n",
       " 'LocaleHTMLCalendar',\n",
       " 'LocaleTextCalendar',\n",
       " 'MONDAY',\n",
       " 'SATURDAY',\n",
       " 'SUNDAY',\n",
       " 'THURSDAY',\n",
       " 'TUESDAY',\n",
       " 'TextCalendar',\n",
       " 'WEDNESDAY',\n",
       " '_EPOCH_ORD',\n",
       " '__all__',\n",
       " '__builtins__',\n",
       " '__cached__',\n",
       " '__doc__',\n",
       " '__file__',\n",
       " '__loader__',\n",
       " '__name__',\n",
       " '__package__',\n",
       " '__spec__',\n",
       " '_colwidth',\n",
       " '_locale',\n",
       " '_localized_day',\n",
       " '_localized_month',\n",
       " '_monthlen',\n",
       " '_nextmonth',\n",
       " '_prevmonth',\n",
       " '_spacing',\n",
       " 'c',\n",
       " 'calendar',\n",
       " 'datetime',\n",
       " 'day_abbr',\n",
       " 'day_name',\n",
       " 'different_locale',\n",
       " 'error',\n",
       " 'firstweekday',\n",
       " 'format',\n",
       " 'formatstring',\n",
       " 'isleap',\n",
       " 'leapdays',\n",
       " 'main',\n",
       " 'mdays',\n",
       " 'month',\n",
       " 'month_abbr',\n",
       " 'month_name',\n",
       " 'monthcalendar',\n",
       " 'monthrange',\n",
       " 'prcal',\n",
       " 'prmonth',\n",
       " 'prweek',\n",
       " 'repeat',\n",
       " 'setfirstweekday',\n",
       " 'sys',\n",
       " 'timegm',\n",
       " 'week',\n",
       " 'weekday',\n",
       " 'weekheader']"
      ]
     },
     "execution_count": 47,
     "metadata": {},
     "output_type": "execute_result"
    }
   ],
   "source": [
    "dir(calendar)\n",
    "['Calendar', 'EPOCH', 'FRIDAY', 'February', 'HTMLCalendar', 'IllegalMonthError', 'IllegalWeekdayError', 'January', 'LocaleHTMLCalendar', 'LocaleTextCalendar', 'MONDAY', 'SATURDAY', 'SUNDAY', 'THURSDAY', 'TUESDAY', 'TextCalendar', 'WEDNESDAY', '_EPOCH_ORD', '__all__', '__builtins__', '__cached__', '__doc__', '__file__', '__loader__', '__name__', '__package__', '__spec__', '_colwidth', '_locale', '_localized_day', '_localized_month', '_monthlen', '_nextmonth', '_prevmonth', '_spacing', 'c', 'calendar', 'datetime', 'day_abbr', 'day_name', 'different_locale', 'error', 'firstweekday', 'format', 'formatstring', 'isleap', 'leapdays', 'main', 'mdays', 'month', 'month_abbr', 'month_name', 'monthcalendar', 'monthrange', 'prcal', 'prmonth', 'prweek', 'repeat', 'setfirstweekday', 'sys', 'timegm', 'week', 'weekday', 'weekheader']\n",
    "\n",
    "import calendar\n",
    "dir(calendar)"
   ]
  },
  {
   "cell_type": "code",
   "execution_count": 49,
   "id": "78a8ec8c",
   "metadata": {},
   "outputs": [
    {
     "data": {
      "text/plain": [
       "['isleap', 'leapdays']"
      ]
     },
     "execution_count": 49,
     "metadata": {},
     "output_type": "execute_result"
    }
   ],
   "source": [
    "[x for x in dir(calendar) if 'leap' in x]"
   ]
  },
  {
   "cell_type": "code",
   "execution_count": 50,
   "id": "2e935f94",
   "metadata": {},
   "outputs": [
    {
     "name": "stdout",
     "output_type": "stream",
     "text": [
      "Help on function isleap in module calendar:\n",
      "\n",
      "isleap(year)\n",
      "    Return True for leap years, False for non-leap years.\n",
      "\n"
     ]
    }
   ],
   "source": [
    "help(calendar.isleap)"
   ]
  },
  {
   "cell_type": "code",
   "execution_count": 51,
   "id": "f703d154",
   "metadata": {},
   "outputs": [
    {
     "data": {
      "text/plain": [
       "False"
      ]
     },
     "execution_count": 51,
     "metadata": {},
     "output_type": "execute_result"
    }
   ],
   "source": [
    "calendar.isleap(2077)"
   ]
  },
  {
   "cell_type": "code",
   "execution_count": 60,
   "id": "06d01fb7",
   "metadata": {},
   "outputs": [
    {
     "name": "stdout",
     "output_type": "stream",
     "text": [
      "5\n"
     ]
    }
   ],
   "source": [
    "import math\n",
    "\n",
    "a = 3\n",
    "b = 4\n",
    "c = (a ** 2 + b ** 2)\n",
    "d = math.sqrt(c)\n",
    "print(int(d))"
   ]
  },
  {
   "cell_type": "code",
   "execution_count": 69,
   "id": "c3d26ddc",
   "metadata": {},
   "outputs": [
    {
     "name": "stdout",
     "output_type": "stream",
     "text": [
      "22.36\n"
     ]
    }
   ],
   "source": [
    "def hypotenuse(a, b):\n",
    "    c = (a ** 2 + b ** 2)\n",
    "    d = math.sqrt(c)\n",
    "    e = round(d, 2)\n",
    "    print(e)\n",
    "    \n",
    "hypotenuse(10,20)"
   ]
  },
  {
   "cell_type": "code",
   "execution_count": 65,
   "id": "ba93a921",
   "metadata": {},
   "outputs": [
    {
     "name": "stdout",
     "output_type": "stream",
     "text": [
      "3\n",
      "4\n",
      "5\n"
     ]
    }
   ],
   "source": [
    "def hypotenuse():\n",
    "    a = input()\n",
    "    b = input()\n",
    "    c = (int(a) ** 2 + int(b) ** 2)\n",
    "    d = math.sqrt(c)\n",
    "    e = round(d, 3)\n",
    "    print(int(e))\n",
    "    \n",
    "hypotenuse()"
   ]
  },
  {
   "cell_type": "code",
   "execution_count": 73,
   "id": "d1ba8bd9",
   "metadata": {},
   "outputs": [
    {
     "name": "stdout",
     "output_type": "stream",
     "text": [
      "   February 2021\n",
      "Mo Tu We Th Fr Sa Su\n",
      " 1  2  3  4  5  6  7\n",
      " 8  9 10 11 12 13 14\n",
      "15 16 17 18 19 20 21\n",
      "22 23 24 25 26 27 28\n",
      "\n"
     ]
    }
   ],
   "source": [
    "import calendar\n",
    "\n",
    "c = calendar.TextCalendar()\n",
    "m = c.formatmonth(2021,2)\n",
    "\n",
    "print(m)\n"
   ]
  },
  {
   "cell_type": "code",
   "execution_count": 76,
   "id": "8724e3fc",
   "metadata": {},
   "outputs": [],
   "source": [
    "import tkinter as tk\n",
    "\n",
    "s = \"Life is short\\nUse Python\"\n",
    "\n",
    "root = tk.Tk()\n",
    "t = tk.Text(root, height=3, width=20)\n",
    "t.insert(tk.END, s)\n",
    "t.pack()\n",
    "tk.mainloop()"
   ]
  },
  {
   "cell_type": "code",
   "execution_count": 109,
   "id": "0ed9ceef",
   "metadata": {},
   "outputs": [],
   "source": [
    "import calendar\n",
    "import tkinter as tk\n",
    "\n",
    "c = calendar.TextCalendar()\n",
    "m = c.formatmonth(2021,3)\n",
    "\n",
    "\n",
    "\n",
    "root = tk.Tk()\n",
    "t = tk.Text(root, height=7, width= 25)\n",
    "t.insert(tk.END, m)\n",
    "t.pack()\n",
    "tk.mainloop()"
   ]
  },
  {
   "cell_type": "code",
   "execution_count": 16,
   "id": "3b48db20",
   "metadata": {},
   "outputs": [
    {
     "data": {
      "text/plain": [
       "'Lalala~'"
      ]
     },
     "execution_count": 16,
     "metadata": {},
     "output_type": "execute_result"
    }
   ],
   "source": [
    "class Singer:\n",
    "    def sing(self):\n",
    "        return \"Lalala~\"\n",
    "    \n",
    "taeji = Singer()\n",
    "taeji.sing()"
   ]
  },
  {
   "cell_type": "code",
   "execution_count": 25,
   "id": "e1225d9d",
   "metadata": {},
   "outputs": [
    {
     "name": "stdout",
     "output_type": "stream",
     "text": [
      "쿨쿨...\n"
     ]
    }
   ],
   "source": [
    "class Person:\n",
    "    # 눈 두 개, 코 하나, 입 하나...\n",
    "    eyes = 2\n",
    "    nose = 1\n",
    "    mouth = 1\n",
    "    ears = 2\n",
    "    arms = 2\n",
    "    legs = 2\n",
    "\n",
    "    # 먹고 자고 이야기하고...\n",
    "    def eat(self):\n",
    "        print ('얌냠...')\n",
    "\n",
    "    def sleep(self):\n",
    "        print ('쿨쿨...')\n",
    "\n",
    "    def talk(self):\n",
    "        print ('주절주절...')\n",
    "        \n",
    "\n",
    "lee = Person()\n",
    "lee.sleep()\n",
    "    "
   ]
  },
  {
   "cell_type": "code",
   "execution_count": 30,
   "id": "7e666c2c",
   "metadata": {},
   "outputs": [
    {
     "ename": "SyntaxError",
     "evalue": "Missing parentheses in call to 'print'. Did you mean print('냉장고 속에 음식이 들어갔네...')? (<ipython-input-30-4fadcc422b1a>, line 13)",
     "output_type": "error",
     "traceback": [
      "\u001b[1;36m  File \u001b[1;32m\"<ipython-input-30-4fadcc422b1a>\"\u001b[1;36m, line \u001b[1;32m13\u001b[0m\n\u001b[1;33m    print '냉장고 속에 음식이 들어갔네...'\u001b[0m\n\u001b[1;37m          ^\u001b[0m\n\u001b[1;31mSyntaxError\u001b[0m\u001b[1;31m:\u001b[0m Missing parentheses in call to 'print'. Did you mean print('냉장고 속에 음식이 들어갔네...')?\n"
     ]
    }
   ],
   "source": [
    "\n",
    "class Fridge:\n",
    "    def __init__(self):\n",
    "        self.isOpened = False\n",
    "        self.foods = []\n",
    "    \n",
    "    def open(self):\n",
    "        self.isOpened = True\n",
    "        print ('냉장고 문을 열었어요...')\n",
    "    \n",
    "    def put(self, thing):\n",
    "        if self.isOpened:\n",
    "            self.foods.append(thing)\n",
    "            print '냉장고 속에 음식이 들어갔네...'\n",
    "        else:\n",
    "            print '냉장고 문이 닫혀있어서 못넣겠어요...'\n",
    "    \n",
    "    def close(self):\n",
    "        self.isOpened = False\n",
    "        print '냉장고 문을 닫았어요...'\n",
    "\n",
    "수호 = Fridge()\n",
    "수호.open()"
   ]
  },
  {
   "cell_type": "code",
   "execution_count": 31,
   "id": "e88c952d",
   "metadata": {},
   "outputs": [
    {
     "name": "stdout",
     "output_type": "stream",
     "text": [
      "방가~\n"
     ]
    }
   ],
   "source": [
    "print('방가~')"
   ]
  },
  {
   "cell_type": "code",
   "execution_count": 37,
   "id": "dd2c43ab",
   "metadata": {},
   "outputs": [
    {
     "data": {
      "text/plain": [
       "False"
      ]
     },
     "execution_count": 37,
     "metadata": {},
     "output_type": "execute_result"
    }
   ],
   "source": [
    "def is_leap_year(year):\n",
    "    if year % 4 != 0:\n",
    "        return False\n",
    "    elif year % 100 != 0:\n",
    "        return True\n",
    "    elif year % 400 != 0:\n",
    "        return False\n",
    "    else:\n",
    "        return True\n",
    "    \n",
    "is_leap_year(2017)"
   ]
  },
  {
   "cell_type": "code",
   "execution_count": null,
   "id": "18b126ad",
   "metadata": {},
   "outputs": [],
   "source": []
  }
 ],
 "metadata": {
  "kernelspec": {
   "display_name": "Python 3",
   "language": "python",
   "name": "python3"
  },
  "language_info": {
   "codemirror_mode": {
    "name": "ipython",
    "version": 3
   },
   "file_extension": ".py",
   "mimetype": "text/x-python",
   "name": "python",
   "nbconvert_exporter": "python",
   "pygments_lexer": "ipython3",
   "version": "3.8.8"
  }
 },
 "nbformat": 4,
 "nbformat_minor": 5
}
