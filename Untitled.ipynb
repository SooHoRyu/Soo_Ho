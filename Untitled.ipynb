{
 "cells": [
  {
   "cell_type": "code",
   "execution_count": 1,
   "id": "c9a58cbe",
   "metadata": {},
   "outputs": [
    {
     "name": "stdout",
     "output_type": "stream",
     "text": [
      "mother 6\n",
      "father 6\n",
      "brother 7\n",
      "me 2\n"
     ]
    }
   ],
   "source": [
    "family = ['mother', 'father', 'brother', 'me']\n",
    "\n",
    "for a in family:\n",
    "    print(a, len(a))"
   ]
  },
  {
   "cell_type": "code",
   "execution_count": 4,
   "id": "17524f16",
   "metadata": {},
   "outputs": [
    {
     "data": {
      "text/plain": [
       "[2, 3, 4, 5, 6]"
      ]
     },
     "execution_count": 4,
     "metadata": {},
     "output_type": "execute_result"
    }
   ],
   "source": [
    "list(range(2, 7))"
   ]
  },
  {
   "cell_type": "code",
   "execution_count": 9,
   "id": "963b52af",
   "metadata": {},
   "outputs": [
    {
     "name": "stdout",
     "output_type": "stream",
     "text": [
      "hello\n",
      "hello\n",
      "hello\n",
      "hello\n",
      "hello\n",
      "hello\n",
      "hello\n",
      "hello\n",
      "hello\n",
      "hello\n"
     ]
    }
   ],
   "source": [
    "for x in range(10):\n",
    "    print(\"hello\")"
   ]
  },
  {
   "cell_type": "code",
   "execution_count": 10,
   "id": "f7b57eed",
   "metadata": {},
   "outputs": [
    {
     "name": "stdout",
     "output_type": "stream",
     "text": [
      "3\n",
      "  3\n",
      "  3\n",
      "  3\n"
     ]
    }
   ],
   "source": [
    "a = int(input())\n",
    "\n",
    "for i in range(a):\n",
    "    print(' ', a)"
   ]
  },
  {
   "cell_type": "code",
   "execution_count": 11,
   "id": "9757f380",
   "metadata": {},
   "outputs": [
    {
     "name": "stdout",
     "output_type": "stream",
     "text": [
      "4\n",
      "5\n",
      "6\n",
      "7\n"
     ]
    }
   ],
   "source": [
    "for i in range(4,8):\n",
    "    print(i)"
   ]
  },
  {
   "cell_type": "code",
   "execution_count": 14,
   "id": "a2120024",
   "metadata": {},
   "outputs": [
    {
     "name": "stdout",
     "output_type": "stream",
     "text": [
      "3\n",
      "  9\n",
      "  81\n"
     ]
    }
   ],
   "source": [
    "a = int(input())\n",
    "\n",
    "for x in range(2):\n",
    "    a *= a\n",
    "    print(' ', a)"
   ]
  },
  {
   "cell_type": "code",
   "execution_count": 15,
   "id": "e591b93b",
   "metadata": {},
   "outputs": [
    {
     "ename": "SyntaxError",
     "evalue": "invalid syntax (<ipython-input-15-ce1752a91cd3>, line 1)",
     "output_type": "error",
     "traceback": [
      "\u001b[1;36m  File \u001b[1;32m\"<ipython-input-15-ce1752a91cd3>\"\u001b[1;36m, line \u001b[1;32m1\u001b[0m\n\u001b[1;33m    freezing_point, boiling point = '0 100'.split()\u001b[0m\n\u001b[1;37m                            ^\u001b[0m\n\u001b[1;31mSyntaxError\u001b[0m\u001b[1;31m:\u001b[0m invalid syntax\n"
     ]
    }
   ],
   "source": [
    "freezing_point, boiling point = '0 100'.split()\n",
    "freezing_point\n",
    "'0'\n",
    "boiling_point\n",
    "'100'\n"
   ]
  },
  {
   "cell_type": "code",
   "execution_count": 44,
   "id": "65f6fa09",
   "metadata": {},
   "outputs": [
    {
     "name": "stdout",
     "output_type": "stream",
     "text": [
      "0 100\n",
      "15 50 75 -999\n",
      "Nothing to report\n",
      "Nothing to report\n",
      "Nothing to report\n",
      "Alert!\n"
     ]
    }
   ],
   "source": [
    "L = input().split()\n",
    "\n",
    "min = int(L[0])\n",
    "max = int(L[1])\n",
    "\n",
    "temp = input().split()\n",
    "i = 0\n",
    "\n",
    "# print(temp[0])\n",
    "\n",
    "while (temp[i] != -999):\n",
    "    a = int(temp[i])\n",
    "    if min <= a <= max:\n",
    "        print('Nothing to report')\n",
    "        # temp = int(input())\n",
    "        i += 1\n",
    "    else:\n",
    "        print('Alert!')\n",
    "        break\n"
   ]
  },
  {
   "cell_type": "code",
   "execution_count": null,
   "id": "0d3d952c",
   "metadata": {},
   "outputs": [],
   "source": [
    "a_list = [3, 4,]"
   ]
  }
 ],
 "metadata": {
  "kernelspec": {
   "display_name": "Python 3",
   "language": "python",
   "name": "python3"
  },
  "language_info": {
   "codemirror_mode": {
    "name": "ipython",
    "version": 3
   },
   "file_extension": ".py",
   "mimetype": "text/x-python",
   "name": "python",
   "nbconvert_exporter": "python",
   "pygments_lexer": "ipython3",
   "version": "3.8.8"
  }
 },
 "nbformat": 4,
 "nbformat_minor": 5
}
