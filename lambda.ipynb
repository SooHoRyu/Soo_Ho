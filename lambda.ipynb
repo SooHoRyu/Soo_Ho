{
 "cells": [
  {
   "cell_type": "code",
   "execution_count": 6,
   "id": "192971a3",
   "metadata": {},
   "outputs": [
    {
     "name": "stdout",
     "output_type": "stream",
     "text": [
      "70\n",
      "d = 70 입니다\n"
     ]
    }
   ],
   "source": [
    "def d_is_10():\n",
    "   \n",
    "    global d\n",
    "    d = int(input())\n",
    "\n",
    "\n",
    "if __name__ =='__main__':\n",
    "    d_is_10()\n",
    "    print('d =', d,'입니다') "
   ]
  },
  {
   "cell_type": "code",
   "execution_count": 7,
   "id": "d3046f20",
   "metadata": {},
   "outputs": [
    {
     "data": {
      "text/plain": [
       "200"
      ]
     },
     "execution_count": 7,
     "metadata": {},
     "output_type": "execute_result"
    }
   ],
   "source": [
    "(lambda x,y: x * y)(10, 20)"
   ]
  },
  {
   "cell_type": "code",
   "execution_count": 15,
   "id": "16482e18",
   "metadata": {},
   "outputs": [
    {
     "data": {
      "text/plain": [
       "[0, 1, 4, 9, 16]"
      ]
     },
     "execution_count": 15,
     "metadata": {},
     "output_type": "execute_result"
    }
   ],
   "source": [
    "list(map(lambda x: x ** 2, range(5)))\n",
    "#list(map(함수, list))"
   ]
  },
  {
   "cell_type": "code",
   "execution_count": 13,
   "id": "8cb4bc93",
   "metadata": {},
   "outputs": [
    {
     "data": {
      "text/plain": [
       "10"
      ]
     },
     "execution_count": 13,
     "metadata": {},
     "output_type": "execute_result"
    }
   ],
   "source": [
    "from functools import reduce\n",
    "reduce(lambda x, y: x + y, [0,1, 2, 3, 4])\n",
    "\n",
    "# from functools import reduce * 꼭 사용*   reduce(함수, 시퀀스)"
   ]
  },
  {
   "cell_type": "code",
   "execution_count": 17,
   "id": "3102e6bd",
   "metadata": {},
   "outputs": [
    {
     "data": {
      "text/plain": [
       "[0, 1, 2, 3, 4]"
      ]
     },
     "execution_count": 17,
     "metadata": {},
     "output_type": "execute_result"
    }
   ],
   "source": [
    "list(filter(lambda x: x < 5, range(10)))\n",
    "\n",
    "# filter(함수, 리스트)"
   ]
  },
  {
   "cell_type": "code",
   "execution_count": null,
   "id": "03dffa16",
   "metadata": {},
   "outputs": [],
   "source": []
  }
 ],
 "metadata": {
  "kernelspec": {
   "display_name": "Python 3",
   "language": "python",
   "name": "python3"
  },
  "language_info": {
   "codemirror_mode": {
    "name": "ipython",
    "version": 3
   },
   "file_extension": ".py",
   "mimetype": "text/x-python",
   "name": "python",
   "nbconvert_exporter": "python",
   "pygments_lexer": "ipython3",
   "version": "3.8.8"
  }
 },
 "nbformat": 4,
 "nbformat_minor": 5
}
